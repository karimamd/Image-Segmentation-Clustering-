{
  "nbformat": 4,
  "nbformat_minor": 0,
  "metadata": {
    "colab": {
      "name": "Image Segmentation (Clustering) .ipynb",
      "version": "0.3.2",
      "views": {},
      "default_view": {},
      "provenance": []
    },
    "kernelspec": {
      "name": "python3",
      "display_name": "Python 3"
    }
  },
  "cells": [
    {
      "metadata": {
        "id": "a-nOiHmtKF0Y",
        "colab_type": "code",
        "colab": {
          "autoexec": {
            "startup": false,
            "wait_interval": 0
          },
          "base_uri": "https://localhost:8080/",
          "height": 218
        },
        "outputId": "b19e131a-f8ff-49ce-f7e2-5820cc2fa893",
        "executionInfo": {
          "status": "error",
          "timestamp": 1526478156735,
          "user_tz": -120,
          "elapsed": 634,
          "user": {
            "displayName": "Kareem Abdel Salam",
            "photoUrl": "//lh5.googleusercontent.com/-FFkZs03hTYw/AAAAAAAAAAI/AAAAAAAAJYE/suktak0dYDI/s50-c-k-no/photo.jpg",
            "userId": "111052780768832987513"
          }
        }
      },
      "cell_type": "code",
      "source": [
        "# check whether we connected to GPU or not\n",
        "import tensorflow as tf\n",
        "device_name = tf.test.gpu_device_name()\n",
        "if device_name != '/device:GPU:0':\n",
        "  raise SystemError('GPU device not found')\n",
        "print('Found GPU at: {}'.format(device_name))"
      ],
      "execution_count": 12,
      "outputs": [
        {
          "output_type": "error",
          "ename": "SystemError",
          "evalue": "ignored",
          "traceback": [
            "\u001b[0;31m---------------------------------------------------------------------------\u001b[0m",
            "\u001b[0;31mSystemError\u001b[0m                               Traceback (most recent call last)",
            "\u001b[0;32m<ipython-input-12-d1680108c58e>\u001b[0m in \u001b[0;36m<module>\u001b[0;34m()\u001b[0m\n\u001b[1;32m      2\u001b[0m \u001b[0mdevice_name\u001b[0m \u001b[0;34m=\u001b[0m \u001b[0mtf\u001b[0m\u001b[0;34m.\u001b[0m\u001b[0mtest\u001b[0m\u001b[0;34m.\u001b[0m\u001b[0mgpu_device_name\u001b[0m\u001b[0;34m(\u001b[0m\u001b[0;34m)\u001b[0m\u001b[0;34m\u001b[0m\u001b[0m\n\u001b[1;32m      3\u001b[0m \u001b[0;32mif\u001b[0m \u001b[0mdevice_name\u001b[0m \u001b[0;34m!=\u001b[0m \u001b[0;34m'/device:GPU:0'\u001b[0m\u001b[0;34m:\u001b[0m\u001b[0;34m\u001b[0m\u001b[0m\n\u001b[0;32m----> 4\u001b[0;31m   \u001b[0;32mraise\u001b[0m \u001b[0mSystemError\u001b[0m\u001b[0;34m(\u001b[0m\u001b[0;34m'GPU device not found'\u001b[0m\u001b[0;34m)\u001b[0m\u001b[0;34m\u001b[0m\u001b[0m\n\u001b[0m\u001b[1;32m      5\u001b[0m \u001b[0mprint\u001b[0m\u001b[0;34m(\u001b[0m\u001b[0;34m'Found GPU at: {}'\u001b[0m\u001b[0;34m.\u001b[0m\u001b[0mformat\u001b[0m\u001b[0;34m(\u001b[0m\u001b[0mdevice_name\u001b[0m\u001b[0;34m)\u001b[0m\u001b[0;34m)\u001b[0m\u001b[0;34m\u001b[0m\u001b[0m\n",
            "\u001b[0;31mSystemError\u001b[0m: GPU device not found"
          ]
        }
      ]
    },
    {
      "metadata": {
        "id": "5mrK9l7Qil6D",
        "colab_type": "code",
        "colab": {
          "autoexec": {
            "startup": false,
            "wait_interval": 0
          },
          "base_uri": "https://localhost:8080/",
          "height": 347
        },
        "outputId": "e0799249-5827-471d-97e7-abfcb86ad438"
      },
      "cell_type": "code",
      "source": [
        "!wget http://www.eecs.berkeley.edu/Research/Projects/CS/vision/grouping/BSR/BSR_bsds500.tgz\n",
        "!ls\n",
        "!uncompress BSR_bsds500.tgz\n",
        "!tar -xvf BSR_bsds500.tar\n",
        "#!rm BSR_bsds500.tar\n",
        "!ls"
      ],
      "execution_count": 0,
      "outputs": [
        {
          "output_type": "stream",
          "text": [
            "--2018-05-16 13:42:41--  http://www.eecs.berkeley.edu/Research/Projects/CS/vision/grouping/BSR/BSR_bsds500.tgz\r\n",
            "Resolving www.eecs.berkeley.edu (www.eecs.berkeley.edu)... 23.185.0.1, 2620:12a:8000::1, 2620:12a:8001::1\r\n",
            "Connecting to www.eecs.berkeley.edu (www.eecs.berkeley.edu)|23.185.0.1|:80... connected.\n",
            "HTTP request sent, awaiting response... 301 Moved Permanently\n",
            "Location: https://www2.eecs.berkeley.edu/Research/Projects/CS/vision/grouping/BSR/BSR_bsds500.tgz [following]\n",
            "--2018-05-16 13:42:41--  https://www2.eecs.berkeley.edu/Research/Projects/CS/vision/grouping/BSR/BSR_bsds500.tgz\n",
            "Resolving www2.eecs.berkeley.edu (www2.eecs.berkeley.edu)... 128.32.244.183\n",
            "Connecting to www2.eecs.berkeley.edu (www2.eecs.berkeley.edu)|128.32.244.183|:443... connected.\n",
            "HTTP request sent, awaiting response... 200 OK\n",
            "Length: 70763455 (67M) [application/x-tar]\n",
            "Saving to: ‘BSR_bsds500.tgz.3’\n",
            "\n",
            "BSR_bsds500.tgz.3   100%[===================>]  67.48M  54.9MB/s    in 1.2s    \n",
            "\n",
            "2018-05-16 13:42:42 (54.9 MB/s) - ‘BSR_bsds500.tgz.3’ saved [70763455/70763455]\n",
            "\n",
            "BSR\t\t BSR_bsds500.tgz    BSR_bsds500.tgz.2  datalab\n",
            "BSR_bsds500.tar  BSR_bsds500.tgz.1  BSR_bsds500.tgz.3\n",
            "gzip: BSR_bsds500.tar already exists; do you wish to overwrite (y or n)? "
          ],
          "name": "stdout"
        }
      ]
    },
    {
      "metadata": {
        "id": "0LklJFMZkbtK",
        "colab_type": "code",
        "colab": {
          "autoexec": {
            "startup": false,
            "wait_interval": 0
          },
          "base_uri": "https://localhost:8080/",
          "height": 52
        },
        "outputId": "a0f519ea-63a5-4dd3-e39f-ab10e8f52f3c",
        "executionInfo": {
          "status": "ok",
          "timestamp": 1526467777156,
          "user_tz": -120,
          "elapsed": 2066,
          "user": {
            "displayName": "Kareem Abdel Salam",
            "photoUrl": "//lh5.googleusercontent.com/-FFkZs03hTYw/AAAAAAAAAAI/AAAAAAAAJYE/suktak0dYDI/s50-c-k-no/photo.jpg",
            "userId": "111052780768832987513"
          }
        }
      },
      "cell_type": "code",
      "source": [
        "!ls"
      ],
      "execution_count": 8,
      "outputs": [
        {
          "output_type": "stream",
          "text": [
            "BSR\t\t BSR_bsds500.tgz    BSR_bsds500.tgz.2\r\n",
            "BSR_bsds500.tar  BSR_bsds500.tgz.1  datalab\r\n"
          ],
          "name": "stdout"
        }
      ]
    },
    {
      "metadata": {
        "id": "EFJDLttLJtMQ",
        "colab_type": "code",
        "colab": {
          "autoexec": {
            "startup": false,
            "wait_interval": 0
          },
          "base_uri": "https://localhost:8080/",
          "height": 52
        },
        "outputId": "2b92870f-4408-4f11-dc00-b662dd4737ed",
        "executionInfo": {
          "status": "ok",
          "timestamp": 1526478123852,
          "user_tz": -120,
          "elapsed": 774,
          "user": {
            "displayName": "Kareem Abdel Salam",
            "photoUrl": "//lh5.googleusercontent.com/-FFkZs03hTYw/AAAAAAAAAAI/AAAAAAAAJYE/suktak0dYDI/s50-c-k-no/photo.jpg",
            "userId": "111052780768832987513"
          }
        }
      },
      "cell_type": "code",
      "source": [
        "import glob\n",
        "'''\n",
        "function to read all mat file names in a given folder\n",
        "@param  path: given in this form '/path/'\n",
        "'''\n",
        "def mat_file_names_list(path):\n",
        "    mat_files=glob.glob('.'+path+'*.mat')\n",
        "    return mat_files\n",
        "  \n",
        "def jpg_file_names_list(path):\n",
        "    mat_files=glob.glob('.'+path+'*.jpg')\n",
        "    return mat_files\n",
        "#testing that function actually works\n",
        "mat_files=mat_file_names_list('BSR/BSDS500/data/groundTruth/train/')\n",
        "print(len(mat_files))\n",
        "print(mat_files)"
      ],
      "execution_count": 9,
      "outputs": [
        {
          "output_type": "stream",
          "text": [
            "0\n",
            "[]\n"
          ],
          "name": "stdout"
        }
      ]
    },
    {
      "metadata": {
        "id": "nH5gOU-bKoZX",
        "colab_type": "code",
        "colab": {
          "autoexec": {
            "startup": false,
            "wait_interval": 0
          }
        }
      },
      "cell_type": "code",
      "source": [
        "#made lists of names of files containing reviews\n",
        "#tested\n",
        "train_mat_names = mat_file_names_list('BSR/BSDS500/data/groundTruth/train/')\n",
        "train_img_names = jpg_file_names_list('BSR/BSDS500/data/images/train/')\n",
        "test_mat_names = mat_file_names_list('BSR/BSDS500/data/groundTruth/test/')\n",
        "test_img_names = jpg_file_names_list('BSR/BSDS500/data/images/test/')\n",
        "val_mat_names = mat_file_names_list('BSR/BSDS500/data/groundTruth/val/')\n",
        "val_img_names = jpg_file_names_list('BSR/BSDS500/data/images/val/')\n"
      ],
      "execution_count": 0,
      "outputs": []
    },
    {
      "metadata": {
        "id": "HI0cPD6_vn6V",
        "colab_type": "code",
        "colab": {
          "autoexec": {
            "startup": false,
            "wait_interval": 0
          }
        }
      },
      "cell_type": "code",
      "source": [
        "import scipy.io as sio\n",
        "\n",
        "mat_contents = sio.loadmat('octave_a.mat')\n"
      ],
      "execution_count": 0,
      "outputs": []
    }
  ]
}